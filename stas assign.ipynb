{
 "cells": [
  {
   "cell_type": "markdown",
   "id": "3ff753d4-87bd-4514-bf35-dbcd55787579",
   "metadata": {},
   "source": [
    "#QNO.1"
   ]
  },
  {
   "cell_type": "markdown",
   "id": "dd2664c9-3874-42e1-a877-fdc8e62e1a7a",
   "metadata": {},
   "source": [
    "The three measures of central tendency are\n",
    "1.mean\n",
    "2.median\n",
    "3.mode"
   ]
  },
  {
   "cell_type": "markdown",
   "id": "ab0d4e2b-901a-479c-90dd-f3737870592a",
   "metadata": {},
   "source": [
    "#QN.2 ANS\n",
    "\n",
    "The central tendency can be found using the formulas of mean, median or mode in most of the cases. As we know, mean is the average of a given data set, median is the middlemost data value and the mode represents the most frequently occurring data value in the set."
   ]
  },
  {
   "cell_type": "markdown",
   "id": "e7f2ed90-b12d-4e59-99d1-6d939e4162d5",
   "metadata": {},
   "source": [
    "#QNO.3 ANS"
   ]
  },
  {
   "cell_type": "code",
   "execution_count": 2,
   "id": "fb9aed08-312b-4eee-9a28-3a262df0a414",
   "metadata": {},
   "outputs": [],
   "source": [
    "data =[178,177,176,177,178.2,178,175,179,180,175,178.9,176.2,177,172.5,178,176.5]\n"
   ]
  },
  {
   "cell_type": "code",
   "execution_count": 5,
   "id": "c947247b-6d15-4784-a0c6-f7b363beb54b",
   "metadata": {},
   "outputs": [
    {
     "data": {
      "text/plain": [
       "177.01875"
      ]
     },
     "execution_count": 5,
     "metadata": {},
     "output_type": "execute_result"
    }
   ],
   "source": [
    "import numpy as np\n",
    "np.mean(data)"
   ]
  },
  {
   "cell_type": "code",
   "execution_count": 6,
   "id": "2733fadb-7311-43ac-95a8-8e1de74df841",
   "metadata": {},
   "outputs": [
    {
     "data": {
      "text/plain": [
       "177.0"
      ]
     },
     "execution_count": 6,
     "metadata": {},
     "output_type": "execute_result"
    }
   ],
   "source": [
    "np.median(data)"
   ]
  },
  {
   "cell_type": "code",
   "execution_count": 7,
   "id": "7ecdcd73-be0a-472a-8e45-c65603a98dcf",
   "metadata": {},
   "outputs": [],
   "source": [
    "from  scipy import stats"
   ]
  },
  {
   "cell_type": "code",
   "execution_count": 8,
   "id": "c967dbc5-3836-4082-850c-0f699113f83a",
   "metadata": {},
   "outputs": [
    {
     "name": "stderr",
     "output_type": "stream",
     "text": [
      "/tmp/ipykernel_888/3267261142.py:1: FutureWarning: Unlike other reduction functions (e.g. `skew`, `kurtosis`), the default behavior of `mode` typically preserves the axis it acts along. In SciPy 1.11.0, this behavior will change: the default value of `keepdims` will become False, the `axis` over which the statistic is taken will be eliminated, and the value None will no longer be accepted. Set `keepdims` to True or False to avoid this warning.\n",
      "  stats.mode(data)\n"
     ]
    },
    {
     "data": {
      "text/plain": [
       "ModeResult(mode=array([177.]), count=array([3]))"
      ]
     },
     "execution_count": 8,
     "metadata": {},
     "output_type": "execute_result"
    }
   ],
   "source": [
    "stats.mode(data)"
   ]
  },
  {
   "cell_type": "markdown",
   "id": "607214ae-21dd-4773-ae9c-f5b9b93f1a90",
   "metadata": {},
   "source": [
    "#QNO.4 ANS"
   ]
  },
  {
   "cell_type": "code",
   "execution_count": 9,
   "id": "12ad8123-d8e9-42d5-8f3c-a63d34b2d44c",
   "metadata": {},
   "outputs": [],
   "source": [
    "data = [178,177,176,177,178.2,178,175,179,180,175,178.9,176.2,177,172.5,178,176.5]\n"
   ]
  },
  {
   "cell_type": "code",
   "execution_count": 10,
   "id": "723cc3c4-9dee-4c88-acc3-84bb8eecb4c4",
   "metadata": {},
   "outputs": [],
   "source": [
    "import numpy as np"
   ]
  },
  {
   "cell_type": "code",
   "execution_count": 11,
   "id": "62cee502-ea6e-40ae-86e8-40f9f72a6f49",
   "metadata": {},
   "outputs": [
    {
     "data": {
      "text/plain": [
       "1.7885814036548633"
      ]
     },
     "execution_count": 11,
     "metadata": {},
     "output_type": "execute_result"
    }
   ],
   "source": [
    "np.std(data)"
   ]
  },
  {
   "cell_type": "markdown",
   "id": "773bb93f-6216-410a-bd69-7a897ee8eb1c",
   "metadata": {},
   "source": [
    "#QNO.5 ANS"
   ]
  },
  {
   "cell_type": "markdown",
   "id": "c6863074-9d9c-4ca4-8549-be6e9392b3d0",
   "metadata": {},
   "source": [
    "These are to determine the proportion of the values that fall within a specified number of standard deviations from the mean. For example, in a normal distribution, 68% of the values will fall within +/- 1 standard deviation from the mean."
   ]
  },
  {
   "cell_type": "markdown",
   "id": "49bcad1e-4984-4dc0-81e1-8534c2cc445d",
   "metadata": {},
   "source": [
    "#QNO.6\n",
    "A Venn diagram is an illustration that uses circles to show the relationships among things or finite groups of things. Circles that overlap have a commonality while circles that do not overlap do not share those traits."
   ]
  },
  {
   "cell_type": "markdown",
   "id": "ce6ab7d4-6863-433a-8a17-63d283265e7b",
   "metadata": {},
   "source": [
    "#QNO.7 ANS"
   ]
  },
  {
   "cell_type": "code",
   "execution_count": 18,
   "id": "00bddd69-67a3-4674-b207-e32389566785",
   "metadata": {},
   "outputs": [],
   "source": [
    "A = {2,3,4,5,6,7} \n",
    "B = {0,2,6,8,10}"
   ]
  },
  {
   "cell_type": "code",
   "execution_count": 19,
   "id": "73a23a3f-4593-4388-af58-26f77ad2e526",
   "metadata": {},
   "outputs": [
    {
     "name": "stdout",
     "output_type": "stream",
     "text": [
      "{2, 6}\n"
     ]
    }
   ],
   "source": [
    "x = A.intersection(B)\n",
    "print(x)"
   ]
  },
  {
   "cell_type": "code",
   "execution_count": 21,
   "id": "9d529260-640b-483b-a19d-3d587c624385",
   "metadata": {},
   "outputs": [
    {
     "name": "stdout",
     "output_type": "stream",
     "text": [
      "{0, 2, 3, 4, 5, 6, 7, 8, 10}\n"
     ]
    }
   ],
   "source": [
    "y = A.union(B)\n",
    "print(y)"
   ]
  },
  {
   "cell_type": "markdown",
   "id": "7337f301-fedd-4434-9c31-179da5ae4aec",
   "metadata": {},
   "source": [
    "#QNO.8 ANS\n",
    " Skewness is a measurement of the distortion of symmetrical distribution or asymmetry in a data set. Skewness is demonstrated on a bell curve when data points are not distributed symmetrically to the left and right sides of the median on a bell curve."
   ]
  },
  {
   "cell_type": "markdown",
   "id": "b243369b-50f6-4d1c-a156-a0c95528c19b",
   "metadata": {},
   "source": [
    "#QNO.9 ANS\n",
    " the mean reflects the skewing the most. The mean is affected by outliers that do not influence the mean. Therefore, when the distribution of data is skewed to the left, the mean is often less than the median. When the distribution is skewed to the right, the mean is often greater than the median"
   ]
  },
  {
   "cell_type": "markdown",
   "id": "85e21d66-e854-4e82-b555-f4268ee5d41f",
   "metadata": {},
   "source": [
    "#QNO.10 ANS\n",
    "Covariance and correlation are two terms that are opposed and are both used in statistics and regression analysis. Covariance shows you how the two variables differ, whereas correlation shows you how the two variables are related."
   ]
  },
  {
   "cell_type": "markdown",
   "id": "7188ef49-8d98-405c-84b8-49b9428cdc95",
   "metadata": {},
   "source": [
    "#QNO.11 ANS\n",
    "The general formula for calculating the sample mean is given by x̄ = ( Σ xi ) / n."
   ]
  },
  {
   "cell_type": "code",
   "execution_count": 22,
   "id": "ffe57436-390e-4695-a384-6692ce8aff41",
   "metadata": {},
   "outputs": [],
   "source": [
    "data =[1,2,3,4,5,6]"
   ]
  },
  {
   "cell_type": "code",
   "execution_count": 23,
   "id": "389cb69e-a3b7-4922-a8a8-3050a10a3411",
   "metadata": {},
   "outputs": [
    {
     "data": {
      "text/plain": [
       "3.5"
      ]
     },
     "execution_count": 23,
     "metadata": {},
     "output_type": "execute_result"
    }
   ],
   "source": [
    "import numpy as np \n",
    "np.mean(data)"
   ]
  },
  {
   "cell_type": "markdown",
   "id": "f2fc878a-ec7e-43e8-925d-3fc004562336",
   "metadata": {},
   "source": [
    "#QNO.12 ANS\n",
    "Any normal distribution has a graph that is perfectly symmetric about a vertical line through its peak. Therefore, all measures of central tendency (most commonly, the mean, median, and mode) give the same answer: the x -value of the peak"
   ]
  },
  {
   "cell_type": "markdown",
   "id": "0ed322de-804c-43d9-9e17-98674704ebbf",
   "metadata": {},
   "source": [
    "#QNO.13 ANS\n",
    "Covariance and correlation are two terms that are opposed and are both used in statistics and regression analysis. Covariance shows you how the two variables differ, whereas correlation shows you how the two variables are related."
   ]
  },
  {
   "cell_type": "markdown",
   "id": "fffa2419-ab77-4ad3-be71-e60200789ac0",
   "metadata": {},
   "source": [
    "#QNO.14 ANS\n",
    "Outliers are numbers in a data set that are vastly larger or smaller than the other values in the set. Mean, median and mode are measures of central tendency. Mean is the only measure of central tendency that is always affected by an outlier. Mean, the average, is the most popular measure of central tendency."
   ]
  }
 ],
 "metadata": {
  "kernelspec": {
   "display_name": "Python 3 (ipykernel)",
   "language": "python",
   "name": "python3"
  },
  "language_info": {
   "codemirror_mode": {
    "name": "ipython",
    "version": 3
   },
   "file_extension": ".py",
   "mimetype": "text/x-python",
   "name": "python",
   "nbconvert_exporter": "python",
   "pygments_lexer": "ipython3",
   "version": "3.10.8"
  }
 },
 "nbformat": 4,
 "nbformat_minor": 5
}
